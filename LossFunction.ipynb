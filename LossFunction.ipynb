{
  "nbformat": 4,
  "nbformat_minor": 0,
  "metadata": {
    "colab": {
      "provenance": [],
      "authorship_tag": "ABX9TyOqZeUj+jhuv++F0kAtOMdh",
      "include_colab_link": true
    },
    "kernelspec": {
      "name": "python3",
      "display_name": "Python 3"
    },
    "language_info": {
      "name": "python"
    }
  },
  "cells": [
    {
      "cell_type": "markdown",
      "metadata": {
        "id": "view-in-github",
        "colab_type": "text"
      },
      "source": [
        "<a href=\"https://colab.research.google.com/github/KojiroAsano/perceptron/blob/main/LossFunction.ipynb\" target=\"_parent\"><img src=\"https://colab.research.google.com/assets/colab-badge.svg\" alt=\"Open In Colab\"/></a>"
      ]
    },
    {
      "cell_type": "code",
      "source": [
        "import numpy as np"
      ],
      "metadata": {
        "id": "ruaSwL9kli47"
      },
      "execution_count": 1,
      "outputs": []
    },
    {
      "cell_type": "code",
      "execution_count": 15,
      "metadata": {
        "id": "D049l6bpE4uj",
        "colab": {
          "base_uri": "https://localhost:8080/"
        },
        "outputId": "b6bc1a81-e166-4297-e7d8-f68ea901e3b8"
      },
      "outputs": [
        {
          "output_type": "stream",
          "name": "stdout",
          "text": [
            "0.09750000000000003\n",
            "0.5975\n"
          ]
        }
      ],
      "source": [
        "def sum_squared_error(y, t):\n",
        "    return (np.sum((y - t) ** 2) /2)\n",
        "\n",
        "# t must be the corrct data, aka traning data\n",
        "t = np.array([0, 0, 1, 0, 0, 0, 0, 0, 0, 0]) # one-hot expression\n",
        "\n",
        "y1 = np.array([0.1, 0.05, 0.6, 0.0, 0.05, 0.1, 0.0, 0.1, 0.0, 0.0])\n",
        "y2 = np.array([0.1, 0.05, 0.1, 0.0, 0.05, 0.1, 0.0, 0.6, 0.0, 0.0])\n",
        "\n",
        "print(sum_squared_error(y1, t)) # 0.09750000000000003\n",
        "print(sum_squared_error(y2, t)) # 0.5975"
      ]
    },
    {
      "cell_type": "code",
      "source": [
        "def cross_entropy_error(y, t):\n",
        "  delta = 1e-7 # to avoid the case when y = 0 then ln7 will be negative infinity.\n",
        "  return -np.sum(t * np.log(y + delta))\n",
        "\n",
        "# t must be the corrct data, aka traning data\n",
        "t = np.array([0, 0, 1, 0, 0, 0, 0, 0, 0, 0]) # one-hot expression\n",
        "\n",
        "y1 = np.array([0.1, 0.05, 0.6, 0.0, 0.05, 0.1, 0.0, 0.1, 0.0, 0.0])\n",
        "y2 = np.array([0.1, 0.05, 0.1, 0.0, 0.05, 0.1, 0.0, 0.6, 0.0, 0.0])\n",
        "\n",
        "print(cross_entropy_error(y1, t)) # 0.510825457099338\n",
        "print(cross_entropy_error(y2, t)) # 2.302584092994546\n"
      ],
      "metadata": {
        "colab": {
          "base_uri": "https://localhost:8080/"
        },
        "id": "JTBUBGRn-_61",
        "outputId": "51353003-262f-43d0-dfb3-1929d8f29bf4"
      },
      "execution_count": 5,
      "outputs": [
        {
          "output_type": "stream",
          "name": "stdout",
          "text": [
            "0.510825457099338\n",
            "2.302584092994546\n"
          ]
        }
      ]
    }
  ]
}