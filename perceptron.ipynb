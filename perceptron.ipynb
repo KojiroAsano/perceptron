{
  "nbformat": 4,
  "nbformat_minor": 0,
  "metadata": {
    "colab": {
      "provenance": [],
      "collapsed_sections": []
    },
    "kernelspec": {
      "name": "python3",
      "display_name": "Python 3"
    },
    "language_info": {
      "name": "python"
    }
  },
  "cells": [
    {
      "cell_type": "markdown",
      "source": [
        "**AND gate** requires two inputs and produce one output\n",
        "Only when the both two outputs are one, then return 1, else it returns 0.\n",
        "\n",
        "The example below is \n",
        "\n",
        "input x_1 and x_2 only allows one or zero.\n",
        "\n",
        "w_1 and w_2 are weight\n",
        "\n",
        "b is threshold, bias"
      ],
      "metadata": {
        "id": "HsdhYuq6vEw_"
      }
    },
    {
      "cell_type": "code",
      "source": [
        "import numpy as np"
      ],
      "metadata": {
        "id": "mDKXy-hRw-tO"
      },
      "execution_count": 10,
      "outputs": []
    },
    {
      "cell_type": "code",
      "execution_count": 12,
      "metadata": {
        "colab": {
          "base_uri": "https://localhost:8080/"
        },
        "id": "kJ2WnVjruU6T",
        "outputId": "6a3d3aa1-2ae7-4495-b4bc-682f4ece85f7"
      },
      "outputs": [
        {
          "output_type": "stream",
          "name": "stdout",
          "text": [
            "1\n",
            "0\n",
            "0\n",
            "0\n"
          ]
        }
      ],
      "source": [
        "def AND(x1, x2):\n",
        "  x = np.array([x1, x2])\n",
        "  w = np.array([0.5, 0.5])\n",
        "  b = -0.7\n",
        "  return 0 if np.sum(w*x) + b <= 0 else 1\n",
        "\n",
        "print(AND(1, 1))\n",
        "print(AND(1, 0))\n",
        "print(AND(0, 1))\n",
        "print(AND(0, 0))"
      ]
    },
    {
      "cell_type": "markdown",
      "source": [],
      "metadata": {
        "id": "j8JmXQC6vDVp"
      }
    },
    {
      "cell_type": "code",
      "source": [
        "def OR(x1, x2):\n",
        "  x = np.array([x1, x2])\n",
        "  w = np.array([0.5, 0.5])\n",
        "  b = -0.2\n",
        "  return 0 if np.sum(w*x) + b <= 0 else 1\n",
        "\n",
        "print(OR(1, 1))\n",
        "print(OR(1, 0))\n",
        "print(OR(0, 1))\n",
        "print(OR(0, 0))\n"
      ],
      "metadata": {
        "colab": {
          "base_uri": "https://localhost:8080/"
        },
        "id": "dJQVcIjSx4g9",
        "outputId": "db1d85b6-b211-4d0c-d6e4-3f538807c486"
      },
      "execution_count": 13,
      "outputs": [
        {
          "output_type": "stream",
          "name": "stdout",
          "text": [
            "1\n",
            "1\n",
            "1\n",
            "0\n"
          ]
        }
      ]
    },
    {
      "cell_type": "code",
      "source": [
        "def NAND(x1, x2):\n",
        "  x = np.array([x1, x2])\n",
        "  w = np.array([-0.5, -0.5])\n",
        "  b = 0.7\n",
        "  return 0 if np.sum(w*x) + b <= 0 else 1\n",
        "\n",
        "print(NAND(1, 1))\n",
        "print(NAND(1, 0))\n",
        "print(NAND(0, 1))\n",
        "print(NAND(0, 0))"
      ],
      "metadata": {
        "colab": {
          "base_uri": "https://localhost:8080/"
        },
        "id": "eQxJbdFTx4Rt",
        "outputId": "6a568ea0-ed8e-4b61-8b31-439539d69c41"
      },
      "execution_count": 15,
      "outputs": [
        {
          "output_type": "stream",
          "name": "stdout",
          "text": [
            "0\n",
            "1\n",
            "1\n",
            "1\n"
          ]
        }
      ]
    },
    {
      "cell_type": "markdown",
      "source": [
        "XOR gate cannot be created by one, because XOR gate is not linear. "
      ],
      "metadata": {
        "id": "xokm7zKb0TPv"
      }
    },
    {
      "cell_type": "code",
      "source": [
        "def XOR(x1, x2):\n",
        "  s1 = NAND(x1, x2)\n",
        "  s2 = OR(x1, x2)\n",
        "  return AND(s1, s2)\n",
        "\n",
        "print(XOR(1, 1))\n",
        "print(XOR(1, 0))\n",
        "print(XOR(0, 1))\n",
        "print(XOR(0, 0))"
      ],
      "metadata": {
        "colab": {
          "base_uri": "https://localhost:8080/"
        },
        "id": "cpTYArSTx3kZ",
        "outputId": "b1fd28c0-3c5f-4d0b-da51-bcd5348f4461"
      },
      "execution_count": 17,
      "outputs": [
        {
          "output_type": "stream",
          "name": "stdout",
          "text": [
            "0\n",
            "1\n",
            "1\n",
            "0\n"
          ]
        }
      ]
    }
  ]
}